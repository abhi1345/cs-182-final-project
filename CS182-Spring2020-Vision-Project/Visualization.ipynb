{
 "cells": [
  {
   "cell_type": "code",
   "execution_count": 1,
   "metadata": {
    "collapsed": false
   },
   "outputs": [
    {
     "name": "stderr",
     "output_type": "stream",
     "text": [
      "Using TensorFlow backend.\n"
     ]
    }
   ],
   "source": [
    "import vis\n",
    "import json\n",
    "from vis.utils import utils\n",
    "import keras\n",
    "import matplotlib.pyplot as plt\n",
    "import tensorflow as tf\n",
    "from keras.preprocessing.image import load_img, img_to_array\n",
    "from keras.applications.vgg16 import preprocess_input\n",
    "from vis.visualization import visualize_saliency\n",
    "from keras.models import load_model\n",
    "import pathlib\n",
    "import numpy as np\n",
    "% matplotlib inline"
   ]
  },
  {
   "cell_type": "code",
   "execution_count": 2,
   "metadata": {
    "collapsed": false
   },
   "outputs": [],
   "source": [
    "# _img = load_img('tiny-imagenet-200/train/n01641577/images/n01641577_10.JPEG')\n",
    "_img = load_img('tiny-imagenet-200/train/n01768244/images/n01768244_107.JPEG')"
   ]
  },
  {
   "cell_type": "code",
   "execution_count": 3,
   "metadata": {
    "collapsed": false
   },
   "outputs": [
    {
     "data": {
      "image/png": "[encoded data removed]",
      "text/plain": [
       "<Figure size 600x400 with 1 Axes>"
      ]
     },
     "metadata": {},
     "output_type": "display_data"
    }
   ],
   "source": [
    "plt.imshow(_img)\n",
    "plt.show()"
   ]
  },
  {
   "cell_type": "code",
   "execution_count": 4,
   "metadata": {
    "collapsed": false
   },
   "outputs": [],
   "source": [
    "model = tf.keras.models.load_model('mobile_net1.h5')"
   ]
  },
  {
   "cell_type": "code",
   "execution_count": 5,
   "metadata": {
    "collapsed": false
   },
   "outputs": [
    {
     "data": {
      "text/plain": [
       "array([ True,  True,  True,  True,  True,  True,  True,  True,  True,\n",
       "        True,  True,  True,  True,  True,  True,  True,  True,  True,\n",
       "        True,  True,  True,  True,  True,  True,  True,  True,  True,\n",
       "        True,  True,  True,  True,  True,  True,  True,  True,  True,\n",
       "        True,  True,  True,  True,  True,  True,  True,  True,  True,\n",
       "        True,  True,  True,  True,  True,  True,  True,  True,  True,\n",
       "        True,  True,  True,  True,  True,  True,  True,  True,  True,\n",
       "        True,  True,  True,  True,  True,  True,  True,  True,  True,\n",
       "        True,  True,  True,  True,  True,  True,  True,  True,  True,\n",
       "        True,  True,  True,  True,  True,  True,  True,  True,  True,\n",
       "        True,  True,  True,  True,  True,  True,  True,  True,  True,\n",
       "        True,  True,  True,  True,  True,  True,  True,  True,  True,\n",
       "        True,  True,  True,  True,  True,  True,  True,  True,  True,\n",
       "        True,  True,  True,  True,  True,  True,  True,  True,  True,\n",
       "        True,  True,  True,  True,  True,  True,  True,  True,  True,\n",
       "        True,  True,  True,  True,  True,  True,  True,  True,  True,\n",
       "        True,  True,  True,  True,  True,  True,  True,  True,  True,\n",
       "        True,  True,  True,  True,  True,  True,  True,  True,  True,\n",
       "        True,  True,  True,  True,  True,  True,  True,  True,  True,\n",
       "        True,  True,  True,  True,  True,  True,  True,  True,  True,\n",
       "        True,  True,  True,  True,  True,  True,  True,  True,  True,\n",
       "        True,  True,  True,  True,  True,  True,  True,  True,  True,\n",
       "        True,  True])"
      ]
     },
     "execution_count": 5,
     "metadata": {},
     "output_type": "execute_result"
    }
   ],
   "source": [
    "# Create a tensorflow dataset\n",
    "data_dir = pathlib.Path('./tiny-imagenet-200/train/')\n",
    "val_data_dir = pathlib.Path('./tiny-imagenet-200/validation/')\n",
    "\n",
    "image_count = len(list(data_dir.glob('**/*.JPEG')))\n",
    "CLASS_NAMES = np.array([item.name for item in data_dir.glob('*')])\n",
    "val_names = np.array([item.name for item in val_data_dir.glob('*')])\n",
    "CLASS_NAMES==val_names"
   ]
  },
  {
   "cell_type": "code",
   "execution_count": 6,
   "metadata": {
    "collapsed": true
   },
   "outputs": [],
   "source": [
    "image_generator = tf.keras.preprocessing.image.ImageDataGenerator(rescale=1. / 255)"
   ]
  },
  {
   "cell_type": "code",
   "execution_count": 7,
   "metadata": {
    "collapsed": false
   },
   "outputs": [
    {
     "name": "stdout",
     "output_type": "stream",
     "text": [
      "Found 100000 images belonging to 200 classes.\n",
      "Found 10000 images belonging to 200 classes.\n"
     ]
    }
   ],
   "source": [
    "BATCH_SIZE = 256\n",
    "IMG_HEIGHT = 64\n",
    "IMG_WIDTH = 64\n",
    "train_data_gen = image_generator.flow_from_directory(directory=str(data_dir),\n",
    "                                                     batch_size=BATCH_SIZE,\n",
    "                                                     shuffle=True,\n",
    "                                                     target_size=(IMG_HEIGHT, IMG_WIDTH),\n",
    "                                                     classes=list(CLASS_NAMES))\n",
    "val_data_gen = image_generator.flow_from_directory(directory=str(val_data_dir),\n",
    "                                                     batch_size=BATCH_SIZE,\n",
    "                                                     shuffle=True,\n",
    "                                                     target_size=(IMG_HEIGHT, IMG_WIDTH),\n",
    "                                                     classes=list(val_names))"
   ]
  },
  {
   "cell_type": "code",
   "execution_count": 8,
   "metadata": {
    "collapsed": false
   },
   "outputs": [
    {
     "data": {
      "text/plain": [
       "True"
      ]
     },
     "execution_count": 8,
     "metadata": {},
     "output_type": "execute_result"
    }
   ],
   "source": [
    "val_data_gen.class_indices == train_data_gen.class_indices"
   ]
  },
  {
   "cell_type": "code",
   "execution_count": 9,
   "metadata": {
    "collapsed": true
   },
   "outputs": [],
   "source": [
    "CLASS_INDEX = json.load(open(\"imagenet_class_index.json\"))\n",
    "idx2label = {}\n",
    "for i_dict in range(len(CLASS_INDEX)):\n",
    "    if CLASS_INDEX[str(i_dict)][0] in CLASS_NAMES:\n",
    "        idx2label[CLASS_INDEX[str(i_dict)][0]] = CLASS_INDEX[str(i_dict)][1]"
   ]
  },
  {
   "cell_type": "code",
   "execution_count": 10,
   "metadata": {
    "collapsed": false,
    "scrolled": false
   },
   "outputs": [
    {
     "data": {
      "text/plain": [
       "138"
      ]
     },
     "execution_count": 10,
     "metadata": {},
     "output_type": "execute_result"
    }
   ],
   "source": [
    "val_data_gen.class_indices['n03804744']"
   ]
  },
  {
   "cell_type": "code",
   "execution_count": 11,
   "metadata": {
    "collapsed": false,
    "scrolled": true
   },
   "outputs": [
    {
     "data": {
      "text/plain": [
       "['plate',\n",
       " 'lampshade',\n",
       " 'bucket',\n",
       " 'tractor',\n",
       " 'scoreboard',\n",
       " 'slug',\n",
       " 'orange',\n",
       " 'pizza',\n",
       " 'stopwatch',\n",
       " 'king_penguin',\n",
       " 'pretzel',\n",
       " 'pole',\n",
       " 'dining_table',\n",
       " 'dugong',\n",
       " 'swimming_trunks',\n",
       " 'tailed_frog',\n",
       " 'cliff_dwelling',\n",
       " \"potter's_wheel\",\n",
       " 'gazelle',\n",
       " 'moving_van',\n",
       " 'desk',\n",
       " 'meat_loaf',\n",
       " 'magnetic_compass',\n",
       " 'school_bus',\n",
       " 'fly',\n",
       " 'steel_arch_bridge',\n",
       " 'projectile',\n",
       " 'vestment',\n",
       " 'teapot',\n",
       " 'chimpanzee',\n",
       " 'thatch',\n",
       " 'limousine',\n",
       " 'bow_tie',\n",
       " 'cougar',\n",
       " 'ice_cream',\n",
       " 'sports_car',\n",
       " 'mushroom',\n",
       " 'binoculars',\n",
       " 'refrigerator',\n",
       " 'water_jug',\n",
       " 'iPod',\n",
       " 'spiny_lobster',\n",
       " 'sock',\n",
       " 'cardigan',\n",
       " 'orangutan',\n",
       " 'broom',\n",
       " 'sunglasses',\n",
       " 'comic_book',\n",
       " 'kimono',\n",
       " 'bell_pepper',\n",
       " 'chain',\n",
       " 'hog',\n",
       " 'dragonfly',\n",
       " 'Yorkshire_terrier',\n",
       " 'organ',\n",
       " 'tabby',\n",
       " 'dumbbell',\n",
       " 'black_widow',\n",
       " 'beaker',\n",
       " 'African_elephant',\n",
       " 'brain_coral',\n",
       " 'wok',\n",
       " 'American_lobster',\n",
       " 'black_stork',\n",
       " 'fur_coat',\n",
       " 'brown_bear',\n",
       " 'lakeside',\n",
       " 'grasshopper',\n",
       " 'beacon',\n",
       " 'backpack',\n",
       " 'torch',\n",
       " 'hourglass',\n",
       " 'obelisk',\n",
       " 'spider_web',\n",
       " 'pay-phone',\n",
       " 'plunger',\n",
       " 'Arabian_camel',\n",
       " 'gondola',\n",
       " 'sea_slug',\n",
       " 'goose',\n",
       " 'pop_bottle',\n",
       " 'rugby_ball',\n",
       " 'cauliflower',\n",
       " 'barbershop',\n",
       " 'confectionery',\n",
       " 'cockroach',\n",
       " 'tarantula',\n",
       " 'walking_stick',\n",
       " 'drumstick',\n",
       " 'teddy',\n",
       " 'Christmas_stocking',\n",
       " 'barn',\n",
       " 'punching_bag',\n",
       " 'suspension_bridge',\n",
       " 'computer_keyboard',\n",
       " 'alp',\n",
       " 'crane',\n",
       " 'snail',\n",
       " 'bighorn',\n",
       " 'sombrero',\n",
       " 'lesser_panda',\n",
       " 'ox',\n",
       " 'apron',\n",
       " 'boa_constrictor',\n",
       " 'altar',\n",
       " 'gasmask',\n",
       " 'butcher_shop',\n",
       " 'pill_bottle',\n",
       " 'jinrikisha',\n",
       " 'jellyfish',\n",
       " 'wooden_spoon',\n",
       " 'space_heater',\n",
       " 'academic_gown',\n",
       " 'German_shepherd',\n",
       " 'standard_poodle',\n",
       " 'brass',\n",
       " 'triumphal_arch',\n",
       " 'bannister',\n",
       " 'bison',\n",
       " 'coral_reef',\n",
       " 'snorkel',\n",
       " 'scorpion',\n",
       " 'ice_lolly',\n",
       " 'umbrella',\n",
       " 'convertible',\n",
       " 'picket_fence',\n",
       " 'bathtub',\n",
       " 'cliff',\n",
       " 'abacus',\n",
       " 'bullfrog',\n",
       " 'potpie',\n",
       " 'turnstile',\n",
       " 'Persian_cat',\n",
       " 'espresso',\n",
       " 'lemon',\n",
       " 'golden_retriever',\n",
       " 'seashore',\n",
       " 'Egyptian_cat',\n",
       " 'nail',\n",
       " 'police_van',\n",
       " 'viaduct',\n",
       " 'Labrador_retriever',\n",
       " 'military_uniform',\n",
       " 'albatross',\n",
       " 'freight_car',\n",
       " 'pomegranate',\n",
       " 'go-kart',\n",
       " 'miniskirt',\n",
       " 'trolleybus',\n",
       " 'ladybug',\n",
       " 'acorn',\n",
       " 'poncho',\n",
       " 'cannon',\n",
       " 'bikini',\n",
       " 'banana',\n",
       " 'sewing_machine',\n",
       " 'parking_meter',\n",
       " 'Chihuahua',\n",
       " 'mashed_potato',\n",
       " 'lifeboat',\n",
       " 'neck_brace',\n",
       " 'birdhouse',\n",
       " 'water_tower',\n",
       " 'cash_machine',\n",
       " 'baboon',\n",
       " 'koala',\n",
       " 'chest',\n",
       " 'bee',\n",
       " 'rocking_chair',\n",
       " 'guinea_pig',\n",
       " 'guacamole',\n",
       " 'flagpole',\n",
       " 'American_alligator',\n",
       " 'basketball',\n",
       " 'volleyball',\n",
       " 'sea_cucumber',\n",
       " 'oboe',\n",
       " 'monarch',\n",
       " 'maypole',\n",
       " 'fountain',\n",
       " 'dam',\n",
       " 'goldfish',\n",
       " 'CD_player',\n",
       " 'mantis',\n",
       " 'syringe',\n",
       " 'lawn_mower',\n",
       " 'remote_control',\n",
       " 'bullet_train',\n",
       " 'beach_wagon',\n",
       " 'frying_pan',\n",
       " 'barrel',\n",
       " 'centipede',\n",
       " 'lion',\n",
       " 'candle',\n",
       " 'European_fire_salamander',\n",
       " 'reel',\n",
       " 'trilobite',\n",
       " 'sandal',\n",
       " 'sulphur_butterfly',\n",
       " 'beer_bottle']"
      ]
     },
     "execution_count": 11,
     "metadata": {},
     "output_type": "execute_result"
    }
   ],
   "source": [
    "classlabels = [(idx2label[cls]) for cls in CLASS_NAMES]\n",
    "classlabels"
   ]
  },
  {
   "cell_type": "code",
   "execution_count": 12,
   "metadata": {
    "collapsed": false
   },
   "outputs": [],
   "source": [
    "# y_pred  = model.predict(img[np.newaxis])"
   ]
  },
  {
   "cell_type": "code",
   "execution_count": 13,
   "metadata": {
    "collapsed": false
   },
   "outputs": [],
   "source": [
    "# y_pred"
   ]
  },
  {
   "cell_type": "code",
   "execution_count": 14,
   "metadata": {
    "collapsed": false
   },
   "outputs": [],
   "source": [
    "# # As a sanity check this shouldn't be printing anything. Model is almost never so sure\n",
    "# for i in range(200):\n",
    "#     if y_pred[0][i] == 1:\n",
    "#         print(i)"
   ]
  },
  {
   "cell_type": "code",
   "execution_count": 15,
   "metadata": {
    "collapsed": false
   },
   "outputs": [
    {
     "name": "stdout",
     "output_type": "stream",
     "text": [
      "Top 1 predicted class:     Pr(Class=lampshade    [index=1])=0.921\n",
      "Top 2 predicted class:     Pr(Class=nail         [index=138])=0.073\n",
      "Top 3 predicted class:     Pr(Class=comic_book   [index=47])=0.005\n",
      "Top 4 predicted class:     Pr(Class=brass        [index=115])=0.001\n",
      "Top 5 predicted class:     Pr(Class=broom        [index=45])=0.000\n"
     ]
    }
   ],
   "source": [
    "img = img_to_array(_img)\n",
    "y_pred = model.predict(img[np.newaxis])\n",
    "class_idxs_sorted = np.argsort(y_pred.flatten())[::-1]\n",
    "topNclass = 5\n",
    "for i, idx in enumerate(class_idxs_sorted[:topNclass]):\n",
    "    print(\"Top {} predicted class:     Pr(Class={:12} [index={}])={:5.3f}\".format(\n",
    "          i + 1,classlabels[idx],idx,y_pred[0,idx]))"
   ]
  },
  {
   "cell_type": "code",
   "execution_count": 16,
   "metadata": {
    "collapsed": true
   },
   "outputs": [],
   "source": [
    "class_idx = class_idxs_sorted[0]\n",
    "layer_idx = -1\n",
    "model.layers[layer_idx].activation = keras.activations.linear\n",
    "grad_top1 = visualize_saliency(model,\n",
    "                               layer_idx,\n",
    "                               filter_indices = class_idx,\n",
    "                               seed_input = img[np.newaxis])"
   ]
  },
  {
   "cell_type": "code",
   "execution_count": 17,
   "metadata": {
    "collapsed": false
   },
   "outputs": [
    {
     "data": {
      "image/png": "[encoded data removed]",
      "text/plain": [
       "<Figure size 1400x500 with 3 Axes>"
      ]
     },
     "metadata": {},
     "output_type": "display_data"
    }
   ],
   "source": [
    "def plot_map(grads):\n",
    "    fig, axes = plt.subplots(1,2,figsize=(14,5))\n",
    "    axes[0].imshow(_img)\n",
    "    axes[1].imshow(_img)\n",
    "    i = axes[1].imshow(grads,cmap=\"jet\",alpha=0.8)\n",
    "    fig.colorbar(i)\n",
    "    plt.suptitle(\"Pr(class={}) = {:5.2f}\".format(\n",
    "                      classlabels[class_idx],\n",
    "                      y_pred[0,class_idx]))\n",
    "plot_map(grad_top1)"
   ]
  },
  {
   "cell_type": "code",
   "execution_count": null,
   "metadata": {
    "collapsed": false,
    "scrolled": false
   },
   "outputs": [],
   "source": [
    "for class_idx in class_idxs_sorted[:topNclass]:\n",
    "    grad_top1 = visualize_saliency(model,\n",
    "                               -1,\n",
    "                               filter_indices = class_idx,\n",
    "                               seed_input = img)\n",
    "    plot_map(grad_top1)\n",
    "    plt.show()"
   ]
  },
  {
   "cell_type": "code",
   "execution_count": null,
   "metadata": {
    "collapsed": true
   },
   "outputs": [],
   "source": []
  }
 ],
 "metadata": {
  "kernelspec": {
   "display_name": "Python 3",
   "language": "python",
   "name": "python3"
  },
  "language_info": {
   "codemirror_mode": {
    "name": "ipython",
    "version": 3
   },
   "file_extension": ".py",
   "mimetype": "text/x-python",
   "name": "python",
   "nbconvert_exporter": "python",
   "pygments_lexer": "ipython3",
   "version": "3.5.6"
  }
 },
 "nbformat": 4,
 "nbformat_minor": 0
}
